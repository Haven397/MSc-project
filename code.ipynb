{
 "cells": [
  {
   "cell_type": "markdown",
   "id": "bb4cc727-016b-47d7-a7ba-4fccbb33c5f0",
   "metadata": {},
   "source": [
    "<span style=\"font-weight:bold; font-size:20px;\">Import</span>"
   ]
  },
  {
   "cell_type": "code",
   "execution_count": 217,
   "id": "415d7835-90b8-410f-ae24-67772975e1c5",
   "metadata": {},
   "outputs": [],
   "source": [
    "import pandas as pd\n",
    "import networkx as nx\n",
    "import numpy as np\n",
    "import pandas as pd\n",
    "import matplotlib.pyplot as plt\n",
    "import json\n",
    "import copy\n",
    "from datetime import datetime\n",
    "from collections import defaultdict\n",
    "from concurrent.futures import ThreadPoolExecutor, as_completed\n",
    "from sklearn.model_selection import train_test_split\n",
    "from sklearn.preprocessing import StandardScaler\n",
    "from sklearn.linear_model import LogisticRegression\n",
    "from sklearn.tree import DecisionTreeClassifier\n",
    "from sklearn.ensemble import RandomForestClassifier\n",
    "from sklearn.svm import SVC\n",
    "from sklearn.neighbors import KNeighborsClassifier\n",
    "from sklearn.metrics import classification_report, roc_auc_score\n",
    "from sklearn.feature_selection import RFE\n",
    "from sklearn.feature_selection import mutual_info_classif\n",
    "from sklearn.preprocessing import PolynomialFeatures\n",
    "from xgboost import XGBClassifier\n",
    "from sklearn.metrics import accuracy_score\n",
    "from sklearn.model_selection import GridSearchCV\n",
    "from sklearn.metrics import precision_score, recall_score, roc_auc_score"
   ]
  },
  {
   "cell_type": "markdown",
   "id": "c9743e64-6a94-4805-bf21-a10bca51b756",
   "metadata": {},
   "source": [
    "<span style=\"font-weight:bold; font-size:20px;\">All function</span>"
   ]
  },
  {
   "cell_type": "code",
   "execution_count": 3,
   "id": "cb8a2695-3f43-4b95-afc7-9fe1220b2977",
   "metadata": {},
   "outputs": [],
   "source": [
    "# Data preprocessing\n",
    "def data_pre(companies):\n",
    "    for i in companies:\n",
    "        if 'metadata' in i.keys():\n",
    "            del i['metadata']\n",
    "        comp_name = i['name']\n",
    "        i['name'] = f\"{comp_name}_{companies.index(i)}\"\n",
    "        if not isinstance(i['equity_funding_total_usd'], int):\n",
    "            value = i['equity_funding_total_usd']\n",
    "            i['equity_funding_total_usd'] = int(value['$numberLong'])\n",
    "        if i['num_funding_rounds'] is None:\n",
    "            i['num_funding_rounds'] = 0\n",
    "    return companies"
   ]
  },
  {
   "cell_type": "code",
   "execution_count": 200,
   "id": "154f0999-0018-4acd-8264-896359ba2113",
   "metadata": {},
   "outputs": [],
   "source": [
    "# The criteria to judge whether the company is successful\n",
    "def whether_success(companies):\n",
    "    for i in companies:\n",
    "        i['startup'] = 'failed'\n",
    "        if i['operating_status'] != 'closed':\n",
    "            if i['went_public_on']:\n",
    "                i['startup'] = 'success'\n",
    "            elif i['status'] == 'was_acquired' or i['status'] == 'ipo':\n",
    "                i['startup'] = 'success'\n",
    "            elif i['num_acquisitions']:\n",
    "                i['startup'] = 'success'\n",
    "            # elif (datetime.now() - datetime.strptime(i['founded_on'], '%Y-%m-%d')).days/365 >= 7:\n",
    "            #     i['startup'] = 'success'\n",
    "            # elif i['num_funding_rounds'] >= 7:\n",
    "            #     i['startup'] = 'success'\n",
    "            elif i['equity_funding_total_usd'] >= 100000000:\n",
    "                i['startup'] = 'success'\n",
    "            elif i['revenue_range'] is not None:\n",
    "                i['startup'] = 'success'\n",
    "    return companies"
   ]
  },
  {
   "cell_type": "code",
   "execution_count": 5,
   "id": "b138b218-e196-4f84-bf70-137f760a7c4c",
   "metadata": {},
   "outputs": [],
   "source": [
    "# Network building\n",
    "def build_nw(comps, peo):\n",
    "    G = nx.Graph()\n",
    "    G.add_nodes_from(comps)\n",
    "    \n",
    "    peo_dict = {comp: set(p) for comp, p in zip(comps, peo)}\n",
    "    \n",
    "    def process_pairs(i, comp):\n",
    "        edges = []\n",
    "        for j in range(i+1, len(comps)):\n",
    "            same = peo_dict[comp] & peo_dict[comps[j]]\n",
    "            if same:\n",
    "                edges.append((comp, comps[j], len(same)))\n",
    "        return edges\n",
    "\n",
    "    with ThreadPoolExecutor() as executor:\n",
    "        futures = [executor.submit(process_pairs, i, comp) for i, comp in enumerate(comps)]\n",
    "        for future in as_completed(futures):\n",
    "            for comp1, comp2, weight in future.result():\n",
    "                if G.has_edge(comp1, comp2):\n",
    "                    G[comp1][comp2]['weight'] += weight\n",
    "                else:\n",
    "                    G.add_edge(comp1, comp2, weight=weight)\n",
    "\n",
    "    return G"
   ]
  },
  {
   "cell_type": "code",
   "execution_count": 6,
   "id": "2112be56-1853-4c14-85de-ba685d9a53e8",
   "metadata": {},
   "outputs": [],
   "source": [
    "# Calculate success rate\n",
    "def success_rate(data, dict, field):\n",
    "    result = {}\n",
    "    for i in dict:\n",
    "        result[i] = 0\n",
    "        for n in data:\n",
    "            if isinstance(n[field], list):\n",
    "                if i in n[field] and n['startup'] == 'success':\n",
    "                    result[i] += 1\n",
    "            else:\n",
    "                if n[field] == i and n['startup'] == 'success':\n",
    "                    result[i] += 1\n",
    "    for k in result:\n",
    "        result[k] = result[k]/dict[k]\n",
    "    return result"
   ]
  },
  {
   "cell_type": "code",
   "execution_count": 128,
   "id": "6bcffe2b-e18d-43a6-b004-66f4c6105c98",
   "metadata": {},
   "outputs": [],
   "source": [
    "# Calculate component data\n",
    "def components_data(G):\n",
    "    result = {}\n",
    "    for component in nx.connected_components(G):\n",
    "        subgraph = G.subgraph(component)\n",
    "        sub_size = len(subgraph)\n",
    "        sub_success = 0\n",
    "        for node in subgraph:\n",
    "            if G.nodes[node]['success'] == 'success':\n",
    "                sub_success += 1\n",
    "        sub_success_rate = sub_success/sub_size\n",
    "        density = nx.density(subgraph)\n",
    "        for node in subgraph:\n",
    "            result[node] = {'component_size': sub_size, 'component_success_rate': sub_success_rate, 'component_score':sub_success_rate * density}\n",
    "    return result"
   ]
  },
  {
   "cell_type": "code",
   "execution_count": 154,
   "id": "66c31486-3213-479a-9b6f-beea18363e37",
   "metadata": {},
   "outputs": [],
   "source": [
    "# Basic analysis of the whole network\n",
    "def generate_data(G):\n",
    "    net_nodes = len(G.nodes())\n",
    "    net_edges = len(G.edges())\n",
    "    net_den = round(nx.density(G),4)\n",
    "    avg_cluster = round(nx.average_clustering(G),4)\n",
    "    avg_degree = round(np.mean(list(dict(G.degree()).values())),4)\n",
    "    max_degree = max(list(dict(G.degree()).values()))\n",
    "    min_degree = min(list(dict(G.degree()).values()))\n",
    "    try:\n",
    "        net_assortativity = round(nx.degree_assortativity_coefficient(G),4)\n",
    "    except RuntimeWarning:\n",
    "        net_assortativity = None\n",
    "    # all_path_lengths = []\n",
    "    # for component in nx.connected_components(G):\n",
    "    #     subgraph = G.subgraph(component)\n",
    "        \n",
    "    #     for node in subgraph.nodes():\n",
    "    #         path_lengths = nx.single_source_shortest_path_length(subgraph, node)\n",
    "    #         avg_path_length = sum(path_lengths.values()) / len(path_lengths)\n",
    "    #         all_path_lengths.append(avg_path_length)\n",
    "\n",
    "    # if all_path_lengths:\n",
    "    #     global_avg_path_length = sum(all_path_lengths) / len(all_path_lengths)\n",
    "\n",
    "    table ={\n",
    "        \"Number of Nodes\": net_nodes,\n",
    "        \"Number of Edges\": net_edges,\n",
    "        \"Density\": net_den,\n",
    "        \"Avg Clustering Coefficient\": avg_cluster,\n",
    "        \"Avg Degree\": avg_degree,\n",
    "        \"Max Degree\": max_degree,\n",
    "        \"Min Degree\": min_degree,\n",
    "        # \"Avg Path Length\": global_avg_path_length,\n",
    "        \"Assortativity\": net_assortativity}    \n",
    "    return table"
   ]
  },
  {
   "cell_type": "code",
   "execution_count": 23,
   "id": "961cedb3-59e5-4be9-b220-4316cc36a735",
   "metadata": {},
   "outputs": [],
   "source": [
    "# Generate the features\n",
    "def generate_feature(G, data):\n",
    "    degrees = dict(G.degree())\n",
    "    # clustering = nx.clustering(G)\n",
    "    closeness = nx.closeness_centrality(G)\n",
    "    # betweenness = nx.betweenness_centrality(G)\n",
    "    # eigenvector_centrality = nx.eigenvector_centrality(G)\n",
    "    # pagerank = nx.pagerank(G)\n",
    "    \n",
    "    nodes = [i['name'] for i in data]\n",
    "    fea_info = {\n",
    "        'node_id': nodes,\n",
    "        'degree': [degrees[node] for node in nodes],\n",
    "        # 'clustering': [clustering[node] for node in nodes],\n",
    "        'closeness': [closeness[node] for node in nodes],\n",
    "        # 'betweenness': [betweenness[node] for node in nodes],\n",
    "        # 'closeness': [closeness[node] for node in nodes],\n",
    "        # 'eigenvector_centrality': [eigenvector_centrality[node] for node in nodes],\n",
    "        # 'pagerank': [pagerank[node] for node in nodes],\n",
    "        'categories': [i['category_groups'] for i in data]\n",
    "    }\n",
    "    df = pd.DataFrame(fea_info)\n",
    "    return df"
   ]
  },
  {
   "cell_type": "code",
   "execution_count": 48,
   "id": "677e74d9-ee98-46f1-a8d8-b4e2f8320ab3",
   "metadata": {},
   "outputs": [],
   "source": [
    "# Generate neighbors data\n",
    "def neighbors_score(G, nodes):\n",
    "    neighbors_sco = []\n",
    "    for node in nodes:\n",
    "        score = 0\n",
    "        neighbors = G.neighbors(node)\n",
    "        for neighbor in neighbors:\n",
    "            neighbor_status = G.nodes[neighbor]['success']\n",
    "            edge_weight = G[node][neighbor]['weight']\n",
    "            if neighbor_status == 'success':\n",
    "                score += edge_weight\n",
    "            elif neighbor_status == 'failed':\n",
    "                score -= edge_weight\n",
    "        neighbors_sco.append(score)\n",
    "    return neighbors_sco"
   ]
  },
  {
   "cell_type": "code",
   "execution_count": 11,
   "id": "47f06f62-9c1d-43c4-8cec-870e593e1d37",
   "metadata": {},
   "outputs": [],
   "source": [
    "# Show the result\n",
    "def evaluate_pred(model, X_test, y_test, y_pred, model_name):\n",
    "    y_proba = model.predict_proba(X_test)[:, 1]\n",
    "    print(f\"{model_name} Classification Report:\")\n",
    "    print(classification_report(y_test, y_pred))\n",
    "    \n",
    "    if y_proba is not None:\n",
    "        roc_auc = roc_auc_score(y_test, y_proba)\n",
    "        print(f\"{model_name} ROC AUC Score: {roc_auc:.3f}\")\n",
    "    else:\n",
    "        print(f\"{model_name} does not provide probability predictions for ROC AUC Score.\")"
   ]
  },
  {
   "cell_type": "markdown",
   "id": "414b1359-86bc-4177-b973-e87ff32294b8",
   "metadata": {},
   "source": [
    "<span style=\"font-weight:bold; font-size:20px;\">Data loading and preprocessing</span>"
   ]
  },
  {
   "cell_type": "code",
   "execution_count": 71,
   "id": "634f4d7c-463b-4470-acec-5402491f56b4",
   "metadata": {},
   "outputs": [],
   "source": [
    "file = '/Users/kiening/Documents/Dissertation/dissertation.cb_companies.json'\n",
    "\n",
    "with open(file, 'r', encoding='utf-8') as file:\n",
    "    data = json.load(file)\n"
   ]
  },
  {
   "cell_type": "code",
   "execution_count": 72,
   "id": "e2530959-5349-453e-ab6d-aded06f95616",
   "metadata": {},
   "outputs": [],
   "source": [
    "data = whether_success(data_pre(data[:100000]))"
   ]
  },
  {
   "cell_type": "code",
   "execution_count": 201,
   "id": "45acef03-bf7f-4501-8d67-2d290a196f4d",
   "metadata": {},
   "outputs": [],
   "source": [
    "data = whether_success(data)"
   ]
  },
  {
   "cell_type": "code",
   "execution_count": 179,
   "id": "c90c885c-11bd-40a0-b1f9-04c54ad6ad68",
   "metadata": {},
   "outputs": [
    {
     "data": {
      "text/plain": [
       "{'_id': {'$oid': '667d505273f74a2b87f0bd5b'},\n",
       " 'uuid': '8bb75a65-0355-003b-5f58-2f437e83a55a',\n",
       " 'categories': ['Agriculture',\n",
       "  'Artificial Intelligence (AI)',\n",
       "  'Big Data',\n",
       "  'Data Visualization',\n",
       "  'Information Technology',\n",
       "  'SaaS'],\n",
       " 'category_groups': ['Agriculture and Farming',\n",
       "  'Artificial Intelligence (AI)',\n",
       "  'Data and Analytics',\n",
       "  'Design',\n",
       "  'Information Technology',\n",
       "  'Science and Engineering',\n",
       "  'Software'],\n",
       " 'cb_created_at': '2014-06-05T06:08:29Z',\n",
       " 'cb_updated_at': '2021-07-28T15:33:13Z',\n",
       " 'created_at': {'$date': '2024-06-27T12:43:14.329Z'},\n",
       " 'equity_funding_total_usd': 114700000,\n",
       " 'facet_ids': ['company', 'rank'],\n",
       " 'founded_on': '2014-01-01',\n",
       " 'founders': ['Isabel Schoeps'],\n",
       " 'funding_stage': 'early_stage_venture',\n",
       " 'funding_total_usd': 117609000,\n",
       " 'investor_stage': [],\n",
       " 'investors': ['Notable Capital',\n",
       "  'DCVC',\n",
       "  'TPG Growth',\n",
       "  'One Planet Group',\n",
       "  'EchoVC Partners'],\n",
       " 'last_equity_funding_total_usd': 85000000,\n",
       " 'last_equity_funding_type': 'series_b',\n",
       " 'last_funding_date': '2021-01-08',\n",
       " 'last_funding_total_usd': 85000000,\n",
       " 'last_funding_type': 'series_b',\n",
       " 'location_groups': ['Greater New York Area', 'East Coast', 'Northeastern US'],\n",
       " 'locations': ['New York', 'New York', 'United States', 'North America'],\n",
       " 'name': 'Gro Intelligence_0',\n",
       " 'num_acquisitions': 0,\n",
       " 'num_employees_enum': 'c_00101_00250',\n",
       " 'num_funding_rounds': 5,\n",
       " 'operating_status': 'active',\n",
       " 'owners': [],\n",
       " 'rank_org': 1,\n",
       " 'rank_principal': 1,\n",
       " 'revenue_range': 'r_00001000',\n",
       " 'short_description': 'The AI-powered decision engine across agriculture, climate, and the economy',\n",
       " 'status': 'operating',\n",
       " 'updated_at': {'$date': '2024-06-27T16:16:42.357Z'},\n",
       " 'valuation_usd': 0,\n",
       " 'version': 11,\n",
       " 'owner': None,\n",
       " 'exited_on': None,\n",
       " 'investor_type': [],\n",
       " 'went_public_on': None,\n",
       " 'startup': 'success'}"
      ]
     },
     "execution_count": 179,
     "metadata": {},
     "output_type": "execute_result"
    }
   ],
   "source": [
    "data[0]"
   ]
  },
  {
   "cell_type": "code",
   "execution_count": 180,
   "id": "1478b174-7c46-4946-9e5f-e1c178f0202a",
   "metadata": {},
   "outputs": [
    {
     "data": {
      "text/plain": [
       "['r_00001000',\n",
       " 'r_00010000',\n",
       " None,\n",
       " 'r_00050000',\n",
       " 'r_00000000',\n",
       " 'r_00500000',\n",
       " 'r_01000000',\n",
       " 'r_00100000',\n",
       " 'r_10000000']"
      ]
     },
     "execution_count": 180,
     "metadata": {},
     "output_type": "execute_result"
    }
   ],
   "source": [
    "a = []\n",
    "for i in data:\n",
    "    if i['revenue_range'] not in a:\n",
    "        a.append(i['revenue_range'])\n",
    "    else:\n",
    "        continue\n",
    "a"
   ]
  },
  {
   "cell_type": "markdown",
   "id": "1f0083ed-39bb-4db5-821c-9d87fbb9a7db",
   "metadata": {},
   "source": [
    "<span style=\"font-weight:bold; font-size:20px;\">Network building</span>"
   ]
  },
  {
   "cell_type": "code",
   "execution_count": 73,
   "id": "f08c59b2-d5ad-4d2c-8ad2-e3cdfdcb04fa",
   "metadata": {},
   "outputs": [],
   "source": [
    "comps = []\n",
    "peo = []\n",
    "\n",
    "for i in data:\n",
    "    comps.append(i['name'])\n",
    "    peo.append(list(set(i['founders']) | set(i['investors'])))"
   ]
  },
  {
   "cell_type": "code",
   "execution_count": 74,
   "id": "3ecd714d-550c-4546-8b53-b45e06681bf0",
   "metadata": {},
   "outputs": [],
   "source": [
    "G = build_nw(comps, peo)"
   ]
  },
  {
   "cell_type": "code",
   "execution_count": 75,
   "id": "e3cef092-0a08-4621-bf6c-472af763dcfc",
   "metadata": {},
   "outputs": [
    {
     "ename": "KeyboardInterrupt",
     "evalue": "",
     "output_type": "error",
     "traceback": [
      "\u001b[0;31m---------------------------------------------------------------------------\u001b[0m",
      "\u001b[0;31mKeyboardInterrupt\u001b[0m                         Traceback (most recent call last)",
      "Cell \u001b[0;32mIn[75], line 5\u001b[0m\n\u001b[1;32m      2\u001b[0m largest_cc \u001b[38;5;241m=\u001b[39m \u001b[38;5;28mmax\u001b[39m(nx\u001b[38;5;241m.\u001b[39mconnected_components(G), key\u001b[38;5;241m=\u001b[39m\u001b[38;5;28mlen\u001b[39m)\n\u001b[1;32m      3\u001b[0m subgraph \u001b[38;5;241m=\u001b[39m G\u001b[38;5;241m.\u001b[39msubgraph(largest_cc)\n\u001b[0;32m----> 5\u001b[0m pos \u001b[38;5;241m=\u001b[39m nx\u001b[38;5;241m.\u001b[39mspring_layout(subgraph, seed\u001b[38;5;241m=\u001b[39m\u001b[38;5;241m42\u001b[39m)\n\u001b[1;32m      6\u001b[0m plt\u001b[38;5;241m.\u001b[39mfigure(figsize\u001b[38;5;241m=\u001b[39m(\u001b[38;5;241m8\u001b[39m, \u001b[38;5;241m6\u001b[39m))\n\u001b[1;32m      7\u001b[0m nx\u001b[38;5;241m.\u001b[39mdraw(subgraph, pos, with_labels\u001b[38;5;241m=\u001b[39m\u001b[38;5;28;01mFalse\u001b[39;00m, node_color\u001b[38;5;241m=\u001b[39m\u001b[38;5;124m'\u001b[39m\u001b[38;5;124mskyblue\u001b[39m\u001b[38;5;124m'\u001b[39m, node_size\u001b[38;5;241m=\u001b[39m\u001b[38;5;241m700\u001b[39m, edge_color\u001b[38;5;241m=\u001b[39m\u001b[38;5;124m'\u001b[39m\u001b[38;5;124mgray\u001b[39m\u001b[38;5;124m'\u001b[39m, width\u001b[38;5;241m=\u001b[39m\u001b[38;5;241m2\u001b[39m)\n",
      "File \u001b[0;32m~/anaconda3/lib/python3.11/site-packages/networkx/utils/decorators.py:770\u001b[0m, in \u001b[0;36margmap.__call__.<locals>.func\u001b[0;34m(_argmap__wrapper, *args, **kwargs)\u001b[0m\n\u001b[1;32m    769\u001b[0m \u001b[38;5;28;01mdef\u001b[39;00m \u001b[38;5;21mfunc\u001b[39m(\u001b[38;5;241m*\u001b[39margs, __wrapper\u001b[38;5;241m=\u001b[39m\u001b[38;5;28;01mNone\u001b[39;00m, \u001b[38;5;241m*\u001b[39m\u001b[38;5;241m*\u001b[39mkwargs):\n\u001b[0;32m--> 770\u001b[0m     \u001b[38;5;28;01mreturn\u001b[39;00m argmap\u001b[38;5;241m.\u001b[39m_lazy_compile(__wrapper)(\u001b[38;5;241m*\u001b[39margs, \u001b[38;5;241m*\u001b[39m\u001b[38;5;241m*\u001b[39mkwargs)\n",
      "File \u001b[0;32m<class 'networkx.utils.decorators.argmap'> compilation 12:4\u001b[0m, in \u001b[0;36margmap_spring_layout_9\u001b[0;34m(G, k, pos, fixed, iterations, threshold, weight, scale, center, dim, seed)\u001b[0m\n\u001b[1;32m      2\u001b[0m \u001b[38;5;28;01mimport\u001b[39;00m \u001b[38;5;21;01mcollections\u001b[39;00m\n\u001b[1;32m      3\u001b[0m \u001b[38;5;28;01mimport\u001b[39;00m \u001b[38;5;21;01mgzip\u001b[39;00m\n\u001b[0;32m----> 4\u001b[0m \u001b[38;5;28;01mimport\u001b[39;00m \u001b[38;5;21;01minspect\u001b[39;00m\n\u001b[1;32m      5\u001b[0m \u001b[38;5;28;01mimport\u001b[39;00m \u001b[38;5;21;01mitertools\u001b[39;00m\n\u001b[1;32m      6\u001b[0m \u001b[38;5;28;01mimport\u001b[39;00m \u001b[38;5;21;01mre\u001b[39;00m\n",
      "File \u001b[0;32m~/anaconda3/lib/python3.11/site-packages/networkx/drawing/layout.py:482\u001b[0m, in \u001b[0;36mspring_layout\u001b[0;34m(G, k, pos, fixed, iterations, threshold, weight, scale, center, dim, seed)\u001b[0m\n\u001b[1;32m    480\u001b[0m         nnodes, _ \u001b[38;5;241m=\u001b[39m A\u001b[38;5;241m.\u001b[39mshape\n\u001b[1;32m    481\u001b[0m         k \u001b[38;5;241m=\u001b[39m dom_size \u001b[38;5;241m/\u001b[39m np\u001b[38;5;241m.\u001b[39msqrt(nnodes)\n\u001b[0;32m--> 482\u001b[0m     pos \u001b[38;5;241m=\u001b[39m _sparse_fruchterman_reingold(\n\u001b[1;32m    483\u001b[0m         A, k, pos_arr, fixed, iterations, threshold, dim, seed\n\u001b[1;32m    484\u001b[0m     )\n\u001b[1;32m    485\u001b[0m \u001b[38;5;28;01mexcept\u001b[39;00m \u001b[38;5;167;01mValueError\u001b[39;00m:\n\u001b[1;32m    486\u001b[0m     A \u001b[38;5;241m=\u001b[39m nx\u001b[38;5;241m.\u001b[39mto_numpy_array(G, weight\u001b[38;5;241m=\u001b[39mweight)\n",
      "File \u001b[0;32m~/anaconda3/lib/python3.11/site-packages/networkx/utils/decorators.py:770\u001b[0m, in \u001b[0;36margmap.__call__.<locals>.func\u001b[0;34m(_argmap__wrapper, *args, **kwargs)\u001b[0m\n\u001b[1;32m    769\u001b[0m \u001b[38;5;28;01mdef\u001b[39;00m \u001b[38;5;21mfunc\u001b[39m(\u001b[38;5;241m*\u001b[39margs, __wrapper\u001b[38;5;241m=\u001b[39m\u001b[38;5;28;01mNone\u001b[39;00m, \u001b[38;5;241m*\u001b[39m\u001b[38;5;241m*\u001b[39mkwargs):\n\u001b[0;32m--> 770\u001b[0m     \u001b[38;5;28;01mreturn\u001b[39;00m argmap\u001b[38;5;241m.\u001b[39m_lazy_compile(__wrapper)(\u001b[38;5;241m*\u001b[39margs, \u001b[38;5;241m*\u001b[39m\u001b[38;5;241m*\u001b[39mkwargs)\n",
      "File \u001b[0;32m<class 'networkx.utils.decorators.argmap'> compilation 16:4\u001b[0m, in \u001b[0;36margmap__sparse_fruchterman_reingold_13\u001b[0;34m(A, k, pos, fixed, iterations, threshold, dim, seed)\u001b[0m\n\u001b[1;32m      2\u001b[0m \u001b[38;5;28;01mimport\u001b[39;00m \u001b[38;5;21;01mcollections\u001b[39;00m\n\u001b[1;32m      3\u001b[0m \u001b[38;5;28;01mimport\u001b[39;00m \u001b[38;5;21;01mgzip\u001b[39;00m\n\u001b[0;32m----> 4\u001b[0m \u001b[38;5;28;01mimport\u001b[39;00m \u001b[38;5;21;01minspect\u001b[39;00m\n\u001b[1;32m      5\u001b[0m \u001b[38;5;28;01mimport\u001b[39;00m \u001b[38;5;21;01mitertools\u001b[39;00m\n\u001b[1;32m      6\u001b[0m \u001b[38;5;28;01mimport\u001b[39;00m \u001b[38;5;21;01mre\u001b[39;00m\n",
      "File \u001b[0;32m~/anaconda3/lib/python3.11/site-packages/networkx/drawing/layout.py:625\u001b[0m, in \u001b[0;36m_sparse_fruchterman_reingold\u001b[0;34m(A, k, pos, fixed, iterations, threshold, dim, seed)\u001b[0m\n\u001b[1;32m    621\u001b[0m     Ai \u001b[38;5;241m=\u001b[39m A\u001b[38;5;241m.\u001b[39mgetrowview(i)\u001b[38;5;241m.\u001b[39mtoarray()  \u001b[38;5;66;03m# TODO: revisit w/ sparse 1D container\u001b[39;00m\n\u001b[1;32m    622\u001b[0m     \u001b[38;5;66;03m# displacement \"force\"\u001b[39;00m\n\u001b[1;32m    623\u001b[0m     displacement[:, i] \u001b[38;5;241m+\u001b[39m\u001b[38;5;241m=\u001b[39m (\n\u001b[1;32m    624\u001b[0m         delta \u001b[38;5;241m*\u001b[39m (k \u001b[38;5;241m*\u001b[39m k \u001b[38;5;241m/\u001b[39m distance\u001b[38;5;241m*\u001b[39m\u001b[38;5;241m*\u001b[39m\u001b[38;5;241m2\u001b[39m \u001b[38;5;241m-\u001b[39m Ai \u001b[38;5;241m*\u001b[39m distance \u001b[38;5;241m/\u001b[39m k)\n\u001b[0;32m--> 625\u001b[0m     )\u001b[38;5;241m.\u001b[39msum(axis\u001b[38;5;241m=\u001b[39m\u001b[38;5;241m1\u001b[39m)\n\u001b[1;32m    626\u001b[0m \u001b[38;5;66;03m# update positions\u001b[39;00m\n\u001b[1;32m    627\u001b[0m length \u001b[38;5;241m=\u001b[39m np\u001b[38;5;241m.\u001b[39msqrt((displacement\u001b[38;5;241m*\u001b[39m\u001b[38;5;241m*\u001b[39m\u001b[38;5;241m2\u001b[39m)\u001b[38;5;241m.\u001b[39msum(axis\u001b[38;5;241m=\u001b[39m\u001b[38;5;241m0\u001b[39m))\n",
      "File \u001b[0;32m~/anaconda3/lib/python3.11/site-packages/numpy/core/_methods.py:49\u001b[0m, in \u001b[0;36m_sum\u001b[0;34m(a, axis, dtype, out, keepdims, initial, where)\u001b[0m\n\u001b[1;32m     47\u001b[0m \u001b[38;5;28;01mdef\u001b[39;00m \u001b[38;5;21m_sum\u001b[39m(a, axis\u001b[38;5;241m=\u001b[39m\u001b[38;5;28;01mNone\u001b[39;00m, dtype\u001b[38;5;241m=\u001b[39m\u001b[38;5;28;01mNone\u001b[39;00m, out\u001b[38;5;241m=\u001b[39m\u001b[38;5;28;01mNone\u001b[39;00m, keepdims\u001b[38;5;241m=\u001b[39m\u001b[38;5;28;01mFalse\u001b[39;00m,\n\u001b[1;32m     48\u001b[0m          initial\u001b[38;5;241m=\u001b[39m_NoValue, where\u001b[38;5;241m=\u001b[39m\u001b[38;5;28;01mTrue\u001b[39;00m):\n\u001b[0;32m---> 49\u001b[0m     \u001b[38;5;28;01mreturn\u001b[39;00m umr_sum(a, axis, dtype, out, keepdims, initial, where)\n",
      "\u001b[0;31mKeyboardInterrupt\u001b[0m: "
     ]
    }
   ],
   "source": [
    "# Draw LCC here\n",
    "largest_cc = max(nx.connected_components(G), key=len)\n",
    "subgraph = G.subgraph(largest_cc)\n",
    "\n",
    "pos = nx.spring_layout(subgraph, seed=42)\n",
    "plt.figure(figsize=(8, 6))\n",
    "nx.draw(subgraph, pos, with_labels=False, node_color='skyblue', node_size=700, edge_color='gray', width=2)\n",
    "edge_labels = nx.get_edge_attributes(subgraph, 'weight')\n",
    "nx.draw_networkx_edge_labels(subgraph, pos, edge_labels=edge_labels, font_size=12, font_color='red')\n",
    "\n",
    "plt.title(\"Network - Largest Connected Component\", fontsize=16)\n",
    "plt.axis('off')\n",
    "plt.show()"
   ]
  },
  {
   "cell_type": "code",
   "execution_count": 76,
   "id": "2cb7ebd0-763a-4260-af90-9c9a7748a937",
   "metadata": {},
   "outputs": [],
   "source": [
    "node_attri = {}\n",
    "for index, node in enumerate(G.nodes()):\n",
    "    node_attri[node] = {}\n",
    "    node_attri[node]['name'] = data[index]['name']\n",
    "    node_attri[node]['categories'] = data[index]['category_groups']\n",
    "    node_attri[node]['success'] = data[index]['startup']\n",
    "nx.set_node_attributes(G, node_attri)"
   ]
  },
  {
   "cell_type": "code",
   "execution_count": 95,
   "id": "fb8f3f78-37cb-4217-b97c-6e0f82d7899a",
   "metadata": {},
   "outputs": [],
   "source": [
    "largest_cc = max(nx.connected_components(G), key=len)\n",
    "subgraph = G.subgraph(largest_cc)"
   ]
  },
  {
   "cell_type": "code",
   "execution_count": 97,
   "id": "6262340d-37f8-44d4-88ff-ef701223b4f9",
   "metadata": {},
   "outputs": [
    {
     "data": {
      "text/plain": [
       "68256"
      ]
     },
     "execution_count": 97,
     "metadata": {},
     "output_type": "execute_result"
    }
   ],
   "source": [
    "len(subgraph.nodes())"
   ]
  },
  {
   "cell_type": "markdown",
   "id": "d32d30f7-094c-427b-aaaf-3a1f2993fab3",
   "metadata": {},
   "source": [
    "<span style=\"font-weight:bold; font-size:20px;\">Basic analysis of the whole network</span>"
   ]
  },
  {
   "cell_type": "code",
   "execution_count": 155,
   "id": "7071b73b-5216-4738-a012-1daf90611542",
   "metadata": {},
   "outputs": [
    {
     "data": {
      "text/plain": [
       "{'Number of Nodes': 100000,\n",
       " 'Number of Edges': 10499381,\n",
       " 'Density': 0.0021,\n",
       " 'Avg Clustering Coefficient': 0.4665,\n",
       " 'Avg Degree': 209.9876,\n",
       " 'Max Degree': 4572,\n",
       " 'Min Degree': 0,\n",
       " 'Assortativity': 0.7125}"
      ]
     },
     "execution_count": 155,
     "metadata": {},
     "output_type": "execute_result"
    }
   ],
   "source": [
    "analysis = generate_data(G)\n",
    "analysis"
   ]
  },
  {
   "cell_type": "code",
   "execution_count": 212,
   "id": "be4bafd3-0c09-4365-8f5b-c3c3abd6767a",
   "metadata": {},
   "outputs": [
    {
     "data": {
      "image/png": "[encoded data removed]",
      "text/plain": [
       "<Figure size 800x600 with 1 Axes>"
      ]
     },
     "metadata": {},
     "output_type": "display_data"
    }
   ],
   "source": [
    "degree_sequence = [d for n, d in G.degree()]\n",
    "degree_count = np.bincount(degree_sequence)\n",
    "degrees = np.nonzero(degree_count)[0]\n",
    "\n",
    "degree_prob = degree_count[degrees] / float(sum(degree_count))\n",
    "\n",
    "plt.figure(figsize=(8, 6))\n",
    "plt.loglog(degrees, degree_prob, 'o', markersize=5, color='blue')\n",
    "plt.title(\"Degree Probability Distribution\")\n",
    "plt.xlabel(\"Degree, k\")\n",
    "plt.ylabel(\"P(k)\")\n",
    "plt.grid(True)\n",
    "plt.show()"
   ]
  },
  {
   "cell_type": "code",
   "execution_count": 149,
   "id": "a007f9ff-427a-4175-ab58-592b3d81adbc",
   "metadata": {},
   "outputs": [
    {
     "data": {
      "image/png": "[encoded data removed]",
      "text/plain": [
       "<Figure size 800x600 with 1 Axes>"
      ]
     },
     "metadata": {},
     "output_type": "display_data"
    }
   ],
   "source": [
    "degree_dict = dict(G.degree(weight='weight'))\n",
    "\n",
    "# 计算每个节点的平均最近邻居度数\n",
    "knn = {}\n",
    "for node in G.nodes():\n",
    "    neighbors = list(G.neighbors(node))\n",
    "    if len(neighbors) > 0:\n",
    "        knn[node] = sum(degree_dict[neighbor] for neighbor in neighbors) / len(neighbors)\n",
    "    else:\n",
    "        knn[node] = 0  # 没有邻居的节点\n",
    "\n",
    "# 按度数分类并计算平均 knn\n",
    "degree_knn = {}\n",
    "for node, k_neigh in knn.items():\n",
    "    degree = G.degree(node)\n",
    "    if degree not in degree_knn:\n",
    "        degree_knn[degree] = []\n",
    "    degree_knn[degree].append(k_neigh)\n",
    "\n",
    "average_knn = {k: sum(v) / len(v) for k, v in degree_knn.items()}\n",
    "\n",
    "# 绘制 knn 的散点图\n",
    "degrees = list(average_knn.keys())\n",
    "avg_knn_values = list(average_knn.values())\n",
    "\n",
    "plt.figure(figsize=(8, 6))\n",
    "plt.scatter(degrees, avg_knn_values, color='blue')\n",
    "plt.title(\"Average Degree of Nearest Neighbors $k_{nn}$ for Classes of Nodes with Degree k\", fontsize=16)\n",
    "plt.xlabel(\"Degree $k$\", fontsize=14)\n",
    "plt.ylabel(\"Average $k_{nn}(k)$\", fontsize=14)\n",
    "plt.grid(True)\n",
    "plt.show()\n",
    "plt.show()"
   ]
  },
  {
   "cell_type": "markdown",
   "id": "a674f12f-aaf7-46cc-af3a-5f7911b785b7",
   "metadata": {},
   "source": [
    "<span style=\"font-weight:bold; font-size:20px;\">Isolated nodes</span>"
   ]
  },
  {
   "cell_type": "code",
   "execution_count": 78,
   "id": "f21c74a2-2d1d-4d41-b9f7-ca9ec973f2e3",
   "metadata": {},
   "outputs": [],
   "source": [
    "isolates = list(nx.isolates(G))\n",
    "iso_comps = []\n",
    "found_on = []\n",
    "funding = []\n",
    "rounds = []\n",
    "startup = []\n",
    "for i in range(len(unique_comps)):\n",
    "    if unique_comps[i] in isolates:\n",
    "        iso_comps.append(data[i]['name'])\n",
    "        found_on.append((datetime.now() - datetime.strptime(data[i]['founded_on'], '%Y-%m-%d')).days)\n",
    "        funding.append(data[i]['equity_funding_total_usd'])\n",
    "        rounds.append(data[i]['num_funding_rounds'])\n",
    "        startup.append(data[i]['startup'])\n",
    "iso_df = pd.DataFrame({\n",
    "    'company': iso_comps,\n",
    "    'days_since_founded': found_on,\n",
    "    'equity_funding_total_usd': funding,\n",
    "    'num_funding_rounds': rounds,\n",
    "    'startup': startup\n",
    "})\n",
    "iso_df['num_funding_rounds'] = iso_df['num_funding_rounds'].fillna(0)"
   ]
  },
  {
   "cell_type": "code",
   "execution_count": 79,
   "id": "3b45a66e-73a8-4352-89f0-a76920d39ac9",
   "metadata": {},
   "outputs": [
    {
     "ename": "ValueError",
     "evalue": "With n_samples=0, test_size=0.2 and train_size=None, the resulting train set will be empty. Adjust any of the aforementioned parameters.",
     "output_type": "error",
     "traceback": [
      "\u001b[0;31m---------------------------------------------------------------------------\u001b[0m",
      "\u001b[0;31mValueError\u001b[0m                                Traceback (most recent call last)",
      "Cell \u001b[0;32mIn[79], line 5\u001b[0m\n\u001b[1;32m      2\u001b[0m X \u001b[38;5;241m=\u001b[39m iso_df\u001b[38;5;241m.\u001b[39mdrop(columns\u001b[38;5;241m=\u001b[39m[\u001b[38;5;124m'\u001b[39m\u001b[38;5;124mstartup\u001b[39m\u001b[38;5;124m'\u001b[39m, \u001b[38;5;124m'\u001b[39m\u001b[38;5;124mcompany\u001b[39m\u001b[38;5;124m'\u001b[39m])\n\u001b[1;32m      3\u001b[0m y \u001b[38;5;241m=\u001b[39m iso_df[\u001b[38;5;124m'\u001b[39m\u001b[38;5;124mstartup\u001b[39m\u001b[38;5;124m'\u001b[39m]\n\u001b[0;32m----> 5\u001b[0m X_train, X_test, y_train, y_test \u001b[38;5;241m=\u001b[39m train_test_split(X, y, test_size\u001b[38;5;241m=\u001b[39m\u001b[38;5;241m0.2\u001b[39m, random_state\u001b[38;5;241m=\u001b[39m\u001b[38;5;241m42\u001b[39m)\n\u001b[1;32m      7\u001b[0m \u001b[38;5;66;03m# Normalized\u001b[39;00m\n\u001b[1;32m      8\u001b[0m scaler \u001b[38;5;241m=\u001b[39m StandardScaler()\n",
      "File \u001b[0;32m~/anaconda3/lib/python3.11/site-packages/sklearn/utils/_param_validation.py:214\u001b[0m, in \u001b[0;36mvalidate_params.<locals>.decorator.<locals>.wrapper\u001b[0;34m(*args, **kwargs)\u001b[0m\n\u001b[1;32m    208\u001b[0m \u001b[38;5;28;01mtry\u001b[39;00m:\n\u001b[1;32m    209\u001b[0m     \u001b[38;5;28;01mwith\u001b[39;00m config_context(\n\u001b[1;32m    210\u001b[0m         skip_parameter_validation\u001b[38;5;241m=\u001b[39m(\n\u001b[1;32m    211\u001b[0m             prefer_skip_nested_validation \u001b[38;5;129;01mor\u001b[39;00m global_skip_validation\n\u001b[1;32m    212\u001b[0m         )\n\u001b[1;32m    213\u001b[0m     ):\n\u001b[0;32m--> 214\u001b[0m         \u001b[38;5;28;01mreturn\u001b[39;00m func(\u001b[38;5;241m*\u001b[39margs, \u001b[38;5;241m*\u001b[39m\u001b[38;5;241m*\u001b[39mkwargs)\n\u001b[1;32m    215\u001b[0m \u001b[38;5;28;01mexcept\u001b[39;00m InvalidParameterError \u001b[38;5;28;01mas\u001b[39;00m e:\n\u001b[1;32m    216\u001b[0m     \u001b[38;5;66;03m# When the function is just a wrapper around an estimator, we allow\u001b[39;00m\n\u001b[1;32m    217\u001b[0m     \u001b[38;5;66;03m# the function to delegate validation to the estimator, but we replace\u001b[39;00m\n\u001b[1;32m    218\u001b[0m     \u001b[38;5;66;03m# the name of the estimator by the name of the function in the error\u001b[39;00m\n\u001b[1;32m    219\u001b[0m     \u001b[38;5;66;03m# message to avoid confusion.\u001b[39;00m\n\u001b[1;32m    220\u001b[0m     msg \u001b[38;5;241m=\u001b[39m re\u001b[38;5;241m.\u001b[39msub(\n\u001b[1;32m    221\u001b[0m         \u001b[38;5;124mr\u001b[39m\u001b[38;5;124m\"\u001b[39m\u001b[38;5;124mparameter of \u001b[39m\u001b[38;5;124m\\\u001b[39m\u001b[38;5;124mw+ must be\u001b[39m\u001b[38;5;124m\"\u001b[39m,\n\u001b[1;32m    222\u001b[0m         \u001b[38;5;124mf\u001b[39m\u001b[38;5;124m\"\u001b[39m\u001b[38;5;124mparameter of \u001b[39m\u001b[38;5;132;01m{\u001b[39;00mfunc\u001b[38;5;241m.\u001b[39m\u001b[38;5;18m__qualname__\u001b[39m\u001b[38;5;132;01m}\u001b[39;00m\u001b[38;5;124m must be\u001b[39m\u001b[38;5;124m\"\u001b[39m,\n\u001b[1;32m    223\u001b[0m         \u001b[38;5;28mstr\u001b[39m(e),\n\u001b[1;32m    224\u001b[0m     )\n",
      "File \u001b[0;32m~/anaconda3/lib/python3.11/site-packages/sklearn/model_selection/_split.py:2649\u001b[0m, in \u001b[0;36mtrain_test_split\u001b[0;34m(test_size, train_size, random_state, shuffle, stratify, *arrays)\u001b[0m\n\u001b[1;32m   2646\u001b[0m arrays \u001b[38;5;241m=\u001b[39m indexable(\u001b[38;5;241m*\u001b[39marrays)\n\u001b[1;32m   2648\u001b[0m n_samples \u001b[38;5;241m=\u001b[39m _num_samples(arrays[\u001b[38;5;241m0\u001b[39m])\n\u001b[0;32m-> 2649\u001b[0m n_train, n_test \u001b[38;5;241m=\u001b[39m _validate_shuffle_split(\n\u001b[1;32m   2650\u001b[0m     n_samples, test_size, train_size, default_test_size\u001b[38;5;241m=\u001b[39m\u001b[38;5;241m0.25\u001b[39m\n\u001b[1;32m   2651\u001b[0m )\n\u001b[1;32m   2653\u001b[0m \u001b[38;5;28;01mif\u001b[39;00m shuffle \u001b[38;5;129;01mis\u001b[39;00m \u001b[38;5;28;01mFalse\u001b[39;00m:\n\u001b[1;32m   2654\u001b[0m     \u001b[38;5;28;01mif\u001b[39;00m stratify \u001b[38;5;129;01mis\u001b[39;00m \u001b[38;5;129;01mnot\u001b[39;00m \u001b[38;5;28;01mNone\u001b[39;00m:\n",
      "File \u001b[0;32m~/anaconda3/lib/python3.11/site-packages/sklearn/model_selection/_split.py:2305\u001b[0m, in \u001b[0;36m_validate_shuffle_split\u001b[0;34m(n_samples, test_size, train_size, default_test_size)\u001b[0m\n\u001b[1;32m   2302\u001b[0m n_train, n_test \u001b[38;5;241m=\u001b[39m \u001b[38;5;28mint\u001b[39m(n_train), \u001b[38;5;28mint\u001b[39m(n_test)\n\u001b[1;32m   2304\u001b[0m \u001b[38;5;28;01mif\u001b[39;00m n_train \u001b[38;5;241m==\u001b[39m \u001b[38;5;241m0\u001b[39m:\n\u001b[0;32m-> 2305\u001b[0m     \u001b[38;5;28;01mraise\u001b[39;00m \u001b[38;5;167;01mValueError\u001b[39;00m(\n\u001b[1;32m   2306\u001b[0m         \u001b[38;5;124m\"\u001b[39m\u001b[38;5;124mWith n_samples=\u001b[39m\u001b[38;5;132;01m{}\u001b[39;00m\u001b[38;5;124m, test_size=\u001b[39m\u001b[38;5;132;01m{}\u001b[39;00m\u001b[38;5;124m and train_size=\u001b[39m\u001b[38;5;132;01m{}\u001b[39;00m\u001b[38;5;124m, the \u001b[39m\u001b[38;5;124m\"\u001b[39m\n\u001b[1;32m   2307\u001b[0m         \u001b[38;5;124m\"\u001b[39m\u001b[38;5;124mresulting train set will be empty. Adjust any of the \u001b[39m\u001b[38;5;124m\"\u001b[39m\n\u001b[1;32m   2308\u001b[0m         \u001b[38;5;124m\"\u001b[39m\u001b[38;5;124maforementioned parameters.\u001b[39m\u001b[38;5;124m\"\u001b[39m\u001b[38;5;241m.\u001b[39mformat(n_samples, test_size, train_size)\n\u001b[1;32m   2309\u001b[0m     )\n\u001b[1;32m   2311\u001b[0m \u001b[38;5;28;01mreturn\u001b[39;00m n_train, n_test\n",
      "\u001b[0;31mValueError\u001b[0m: With n_samples=0, test_size=0.2 and train_size=None, the resulting train set will be empty. Adjust any of the aforementioned parameters."
     ]
    }
   ],
   "source": [
    "# Use Random forests to judge feature importance\n",
    "X = iso_df.drop(columns=['startup', 'company'])\n",
    "y = iso_df['startup']\n",
    "\n",
    "X_train, X_test, y_train, y_test = train_test_split(X, y, test_size=0.2, random_state=42)\n",
    "\n",
    "# Normalized\n",
    "scaler = StandardScaler()\n",
    "X_train = scaler.fit_transform(X_train)\n",
    "X_test = scaler.transform(X_test)\n",
    "\n",
    "model = RandomForestClassifier(random_state=42)\n",
    "model.fit(X_train, y_train)\n",
    "\n",
    "# Feature importance\n",
    "feature_importances = model.feature_importances_\n",
    "features = X.columns\n",
    "importance_df = pd.DataFrame({'Feature': features, 'Importance': feature_importances})\n",
    "\n",
    "# Rank\n",
    "importance_df = importance_df.sort_values(by='Importance', ascending=False)\n",
    "print(importance_df)"
   ]
  },
  {
   "cell_type": "code",
   "execution_count": null,
   "id": "0082c184-15a5-416f-92d7-c68383811b1f",
   "metadata": {},
   "outputs": [],
   "source": [
    "# Feature combination\n",
    "poly = PolynomialFeatures(degree=2, interaction_only=True, include_bias=False)\n",
    "X_train_poly = poly.fit_transform(X_train)\n",
    "X_test_poly = poly.transform(X_test)\n",
    "\n",
    "model_poly = RandomForestClassifier(random_state=42)\n",
    "model_poly.fit(X_train_poly, y_train)\n",
    "\n",
    "# Performance\n",
    "y_pred = model_poly.predict(X_test_poly)\n",
    "print(\"Classification Report with Interaction Features:\")\n",
    "print(classification_report(y_test, y_pred))"
   ]
  },
  {
   "cell_type": "markdown",
   "id": "5c312da7-cd10-4b13-98e8-057ac944b02a",
   "metadata": {},
   "source": [
    "<span style=\"font-weight:bold; font-size:20px;\">Non-isolated nodes</span>"
   ]
  },
  {
   "cell_type": "code",
   "execution_count": 202,
   "id": "7780f73a-27f2-4a2b-a392-7b5014ed0f9e",
   "metadata": {},
   "outputs": [],
   "source": [
    "data_non_iso = [i for i in data if i['name'] not in isolates]"
   ]
  },
  {
   "cell_type": "code",
   "execution_count": 81,
   "id": "1cb7d560-6368-4582-9e80-3d0c2faf9762",
   "metadata": {},
   "outputs": [],
   "source": [
    "# Generate the feature dataframe\n",
    "data_non_iso = [i for i in data if i['name'] not in isolates]\n",
    "fea_df = generate_feature(G, data_non_iso)"
   ]
  },
  {
   "cell_type": "code",
   "execution_count": 83,
   "id": "aa5497d6-b29e-40bf-b15c-62d30caaa3f4",
   "metadata": {},
   "outputs": [],
   "source": [
    "# Caculate the class success rate and closeness\n",
    "cla = {}\n",
    "for i in data_non_iso:\n",
    "    for n in i['category_groups']:\n",
    "        if not n in cla.keys():\n",
    "            cla[n] = 1\n",
    "        else:\n",
    "            cla[n] += 1\n",
    "cla_success_rate = success_rate(data_non_iso, cla, 'category_groups')\n",
    "cla_avg_closeness = {}\n",
    "for i in cla.keys():\n",
    "    for n in range(len(fea_df['node_id'])):\n",
    "        if i in fea_df['categories'][n]:\n",
    "            if i in cla_avg_closeness:\n",
    "                cla_avg_closeness[i] += fea_df['closeness'][n]\n",
    "            else:\n",
    "                cla_avg_closeness[i] = fea_df['closeness'][n]\n",
    "for i in cla_avg_closeness:\n",
    "    cla_avg_closeness[i] = cla_avg_closeness[i]/cla[i]\n",
    "\n",
    "\n",
    "avg_cla_sco = []\n",
    "avg_cla_clo = []\n",
    "for i in fea_df['categories']:\n",
    "    cla_rates = [cla_success_rate[n] for n in i]\n",
    "    clo_rates = [cla_avg_closeness[n] for n in i]\n",
    "    if cla_rates:\n",
    "        avg_success_rate = sum(cla_rates) / len(cla_rates)\n",
    "        avg_clo = sum(clo_rates) / len(clo_rates)\n",
    "        avg_cla_sco.append(avg_success_rate)\n",
    "        avg_cla_clo.append(avg_clo)\n",
    "    else:\n",
    "        avg_cla_sco.append(0)\n",
    "        avg_cla_clo.append(0)\n",
    "fea_df['class_score'] = avg_cla_sco\n",
    "fea_df['class_avg_closeness'] = avg_cla_clo"
   ]
  },
  {
   "cell_type": "code",
   "execution_count": 84,
   "id": "ef341248-bcc2-4b4f-98d3-2d94ee1713b1",
   "metadata": {},
   "outputs": [],
   "source": [
    "# Caculate the location success rate\n",
    "location = {}\n",
    "for i in data_non_iso:\n",
    "    if i['location_groups']:\n",
    "        for n in i['location_groups']:\n",
    "            if not n in location:\n",
    "                location[n] = 1\n",
    "            else:\n",
    "                location[n] += 1\n",
    "loc_success_rate = success_rate(data_non_iso, location, 'location_groups')\n",
    "avg_loc_sco = []\n",
    "for i in data_non_iso:\n",
    "    rates = [loc_success_rate[n] for n in i['location_groups']]\n",
    "    if rates:\n",
    "        avg_success_rate = sum(rates) / len(rates)\n",
    "        avg_loc_sco.append(avg_success_rate)\n",
    "    else:\n",
    "        avg_loc_sco.append(0)\n",
    "fea_df['location_score'] = avg_loc_sco"
   ]
  },
  {
   "cell_type": "code",
   "execution_count": 85,
   "id": "40c93781-9469-4b17-92ee-ce9436a50d9c",
   "metadata": {},
   "outputs": [],
   "source": [
    "# Caculate the number of employees success rate\n",
    "employees = {}\n",
    "for i in data_non_iso:\n",
    "    if i['num_employees_enum']:\n",
    "        if not i['num_employees_enum'] in employees:\n",
    "            employees[i['num_employees_enum']] = 1\n",
    "        else:\n",
    "            employees[i['num_employees_enum']] += 1\n",
    "emp_success_rate = success_rate(data_non_iso, employees, 'num_employees_enum')\n",
    "avg_emp_sco = []\n",
    "for i in data_non_iso:\n",
    "    if i['num_employees_enum']:\n",
    "        avg_emp_sco.append(emp_success_rate[i['num_employees_enum']])\n",
    "    else:\n",
    "        avg_emp_sco.append(0)\n",
    "fea_df['employees_score'] = avg_emp_sco"
   ]
  },
  {
   "cell_type": "code",
   "execution_count": 129,
   "id": "c7bfcfca-683c-4c92-8ea9-32fabcf4f380",
   "metadata": {},
   "outputs": [],
   "source": [
    "# Caculate component data\n",
    "node_component_data = components_data(G)\n",
    "comp_success_rate = [node_component_data[node]['component_success_rate'] for node in fea_df['node_id']]\n",
    "comp_size = [node_component_data[node]['component_size'] for node in fea_df['node_id']]\n",
    "comp_sco = [node_component_data[node]['component_score'] for node in fea_df['node_id']]\n",
    "fea_df['component_success_rate'] = comp_success_rate\n",
    "fea_df['component_size'] = comp_size\n",
    "fea_df['component_score'] = comp_sco"
   ]
  },
  {
   "cell_type": "code",
   "execution_count": 87,
   "id": "467fc05b-3260-4413-84b7-55ec4c2d32e2",
   "metadata": {},
   "outputs": [],
   "source": [
    "# Caculate neighbors_data\n",
    "neighbors_data = neighbors_score(G, fea_df['node_id'])\n",
    "fea_df['neighbors_weighted_success'] = neighbors_data"
   ]
  },
  {
   "cell_type": "code",
   "execution_count": 130,
   "id": "d5cba483-2822-4ca2-9daf-397409a7c911",
   "metadata": {},
   "outputs": [
    {
     "data": {
      "text/html": [
       "<div>\n",
       "<style scoped>\n",
       "    .dataframe tbody tr th:only-of-type {\n",
       "        vertical-align: middle;\n",
       "    }\n",
       "\n",
       "    .dataframe tbody tr th {\n",
       "        vertical-align: top;\n",
       "    }\n",
       "\n",
       "    .dataframe thead th {\n",
       "        text-align: right;\n",
       "    }\n",
       "</style>\n",
       "<table border=\"1\" class=\"dataframe\">\n",
       "  <thead>\n",
       "    <tr style=\"text-align: right;\">\n",
       "      <th></th>\n",
       "      <th>node_id</th>\n",
       "      <th>degree</th>\n",
       "      <th>closeness</th>\n",
       "      <th>categories</th>\n",
       "      <th>class_score</th>\n",
       "      <th>class_avg_closeness</th>\n",
       "      <th>location_score</th>\n",
       "      <th>employees_score</th>\n",
       "      <th>component_success_rate</th>\n",
       "      <th>component_size</th>\n",
       "      <th>neighbors_weighted_success</th>\n",
       "      <th>component_score</th>\n",
       "    </tr>\n",
       "  </thead>\n",
       "  <tbody>\n",
       "    <tr>\n",
       "      <th>0</th>\n",
       "      <td>Gro Intelligence_0</td>\n",
       "      <td>279</td>\n",
       "      <td>0.245260</td>\n",
       "      <td>[Agriculture and Farming, Artificial Intellige...</td>\n",
       "      <td>0.624158</td>\n",
       "      <td>0.211965</td>\n",
       "      <td>0.611691</td>\n",
       "      <td>0.791597</td>\n",
       "      <td>0.635607</td>\n",
       "      <td>68256</td>\n",
       "      <td>133</td>\n",
       "      <td>0.002864</td>\n",
       "    </tr>\n",
       "    <tr>\n",
       "      <th>1</th>\n",
       "      <td>Squire_1</td>\n",
       "      <td>1739</td>\n",
       "      <td>0.268141</td>\n",
       "      <td>[Apps, Commerce and Shopping, Mobile, Other, S...</td>\n",
       "      <td>0.623766</td>\n",
       "      <td>0.207056</td>\n",
       "      <td>0.611691</td>\n",
       "      <td>0.791597</td>\n",
       "      <td>0.635607</td>\n",
       "      <td>68256</td>\n",
       "      <td>32</td>\n",
       "      <td>0.002864</td>\n",
       "    </tr>\n",
       "    <tr>\n",
       "      <th>2</th>\n",
       "      <td>The EVERY Company_2</td>\n",
       "      <td>304</td>\n",
       "      <td>0.247852</td>\n",
       "      <td>[Biotechnology, Food and Beverage, Health Care...</td>\n",
       "      <td>0.656156</td>\n",
       "      <td>0.209980</td>\n",
       "      <td>0.601906</td>\n",
       "      <td>0.791597</td>\n",
       "      <td>0.635607</td>\n",
       "      <td>68256</td>\n",
       "      <td>110</td>\n",
       "      <td>0.002864</td>\n",
       "    </tr>\n",
       "    <tr>\n",
       "      <th>3</th>\n",
       "      <td>Groq_3</td>\n",
       "      <td>921</td>\n",
       "      <td>0.259102</td>\n",
       "      <td>[Artificial Intelligence (AI), Consumer Electr...</td>\n",
       "      <td>0.643026</td>\n",
       "      <td>0.214099</td>\n",
       "      <td>0.608419</td>\n",
       "      <td>0.791597</td>\n",
       "      <td>0.635607</td>\n",
       "      <td>68256</td>\n",
       "      <td>290</td>\n",
       "      <td>0.002864</td>\n",
       "    </tr>\n",
       "    <tr>\n",
       "      <th>4</th>\n",
       "      <td>Campus_4</td>\n",
       "      <td>207</td>\n",
       "      <td>0.239274</td>\n",
       "      <td>[Education, Software]</td>\n",
       "      <td>0.627927</td>\n",
       "      <td>0.206463</td>\n",
       "      <td>0.601980</td>\n",
       "      <td>0.631051</td>\n",
       "      <td>0.635607</td>\n",
       "      <td>68256</td>\n",
       "      <td>35</td>\n",
       "      <td>0.002864</td>\n",
       "    </tr>\n",
       "    <tr>\n",
       "      <th>...</th>\n",
       "      <td>...</td>\n",
       "      <td>...</td>\n",
       "      <td>...</td>\n",
       "      <td>...</td>\n",
       "      <td>...</td>\n",
       "      <td>...</td>\n",
       "      <td>...</td>\n",
       "      <td>...</td>\n",
       "      <td>...</td>\n",
       "      <td>...</td>\n",
       "      <td>...</td>\n",
       "      <td>...</td>\n",
       "    </tr>\n",
       "    <tr>\n",
       "      <th>71045</th>\n",
       "      <td>Rake_99963</td>\n",
       "      <td>5</td>\n",
       "      <td>0.199267</td>\n",
       "      <td>[Information Technology, Internet Services, Me...</td>\n",
       "      <td>0.624818</td>\n",
       "      <td>0.210742</td>\n",
       "      <td>0.636360</td>\n",
       "      <td>0.631051</td>\n",
       "      <td>0.635607</td>\n",
       "      <td>68256</td>\n",
       "      <td>1</td>\n",
       "      <td>0.002864</td>\n",
       "    </tr>\n",
       "    <tr>\n",
       "      <th>71046</th>\n",
       "      <td>KardiaChain_99976</td>\n",
       "      <td>2</td>\n",
       "      <td>0.167292</td>\n",
       "      <td>[Blockchain and Cryptocurrency, Information Te...</td>\n",
       "      <td>0.591488</td>\n",
       "      <td>0.205316</td>\n",
       "      <td>0.615515</td>\n",
       "      <td>0.631051</td>\n",
       "      <td>0.635607</td>\n",
       "      <td>68256</td>\n",
       "      <td>2</td>\n",
       "      <td>0.002864</td>\n",
       "    </tr>\n",
       "    <tr>\n",
       "      <th>71047</th>\n",
       "      <td>JustKapture_99984</td>\n",
       "      <td>5</td>\n",
       "      <td>0.171542</td>\n",
       "      <td>[Administrative Services, Advertising, Content...</td>\n",
       "      <td>0.654637</td>\n",
       "      <td>0.203245</td>\n",
       "      <td>0.693903</td>\n",
       "      <td>0.553596</td>\n",
       "      <td>0.635607</td>\n",
       "      <td>68256</td>\n",
       "      <td>-1</td>\n",
       "      <td>0.002864</td>\n",
       "    </tr>\n",
       "    <tr>\n",
       "      <th>71048</th>\n",
       "      <td>Omnislash Inc_99985</td>\n",
       "      <td>99</td>\n",
       "      <td>0.228331</td>\n",
       "      <td>[Content and Publishing, Data and Analytics, G...</td>\n",
       "      <td>0.642580</td>\n",
       "      <td>0.203787</td>\n",
       "      <td>0.619360</td>\n",
       "      <td>0.631051</td>\n",
       "      <td>0.635607</td>\n",
       "      <td>68256</td>\n",
       "      <td>15</td>\n",
       "      <td>0.002864</td>\n",
       "    </tr>\n",
       "    <tr>\n",
       "      <th>71049</th>\n",
       "      <td>Zoapi_99995</td>\n",
       "      <td>19</td>\n",
       "      <td>0.189529</td>\n",
       "      <td>[Consumer Electronics, Hardware, Software]</td>\n",
       "      <td>0.664836</td>\n",
       "      <td>0.212441</td>\n",
       "      <td>0.693903</td>\n",
       "      <td>0.553596</td>\n",
       "      <td>0.635607</td>\n",
       "      <td>68256</td>\n",
       "      <td>5</td>\n",
       "      <td>0.002864</td>\n",
       "    </tr>\n",
       "  </tbody>\n",
       "</table>\n",
       "<p>71050 rows × 12 columns</p>\n",
       "</div>"
      ],
      "text/plain": [
       "                   node_id  degree  closeness  \\\n",
       "0       Gro Intelligence_0     279   0.245260   \n",
       "1                 Squire_1    1739   0.268141   \n",
       "2      The EVERY Company_2     304   0.247852   \n",
       "3                   Groq_3     921   0.259102   \n",
       "4                 Campus_4     207   0.239274   \n",
       "...                    ...     ...        ...   \n",
       "71045           Rake_99963       5   0.199267   \n",
       "71046    KardiaChain_99976       2   0.167292   \n",
       "71047    JustKapture_99984       5   0.171542   \n",
       "71048  Omnislash Inc_99985      99   0.228331   \n",
       "71049          Zoapi_99995      19   0.189529   \n",
       "\n",
       "                                              categories  class_score  \\\n",
       "0      [Agriculture and Farming, Artificial Intellige...     0.624158   \n",
       "1      [Apps, Commerce and Shopping, Mobile, Other, S...     0.623766   \n",
       "2      [Biotechnology, Food and Beverage, Health Care...     0.656156   \n",
       "3      [Artificial Intelligence (AI), Consumer Electr...     0.643026   \n",
       "4                                  [Education, Software]     0.627927   \n",
       "...                                                  ...          ...   \n",
       "71045  [Information Technology, Internet Services, Me...     0.624818   \n",
       "71046  [Blockchain and Cryptocurrency, Information Te...     0.591488   \n",
       "71047  [Administrative Services, Advertising, Content...     0.654637   \n",
       "71048  [Content and Publishing, Data and Analytics, G...     0.642580   \n",
       "71049         [Consumer Electronics, Hardware, Software]     0.664836   \n",
       "\n",
       "       class_avg_closeness  location_score  employees_score  \\\n",
       "0                 0.211965        0.611691         0.791597   \n",
       "1                 0.207056        0.611691         0.791597   \n",
       "2                 0.209980        0.601906         0.791597   \n",
       "3                 0.214099        0.608419         0.791597   \n",
       "4                 0.206463        0.601980         0.631051   \n",
       "...                    ...             ...              ...   \n",
       "71045             0.210742        0.636360         0.631051   \n",
       "71046             0.205316        0.615515         0.631051   \n",
       "71047             0.203245        0.693903         0.553596   \n",
       "71048             0.203787        0.619360         0.631051   \n",
       "71049             0.212441        0.693903         0.553596   \n",
       "\n",
       "       component_success_rate  component_size  neighbors_weighted_success  \\\n",
       "0                    0.635607           68256                         133   \n",
       "1                    0.635607           68256                          32   \n",
       "2                    0.635607           68256                         110   \n",
       "3                    0.635607           68256                         290   \n",
       "4                    0.635607           68256                          35   \n",
       "...                       ...             ...                         ...   \n",
       "71045                0.635607           68256                           1   \n",
       "71046                0.635607           68256                           2   \n",
       "71047                0.635607           68256                          -1   \n",
       "71048                0.635607           68256                          15   \n",
       "71049                0.635607           68256                           5   \n",
       "\n",
       "       component_score  \n",
       "0             0.002864  \n",
       "1             0.002864  \n",
       "2             0.002864  \n",
       "3             0.002864  \n",
       "4             0.002864  \n",
       "...                ...  \n",
       "71045         0.002864  \n",
       "71046         0.002864  \n",
       "71047         0.002864  \n",
       "71048         0.002864  \n",
       "71049         0.002864  \n",
       "\n",
       "[71050 rows x 12 columns]"
      ]
     },
     "execution_count": 130,
     "metadata": {},
     "output_type": "execute_result"
    }
   ],
   "source": [
    "fea_df"
   ]
  },
  {
   "cell_type": "markdown",
   "id": "99508e0c-34da-420f-ad41-574220acc784",
   "metadata": {},
   "source": [
    "<span style=\"font-weight:bold; font-size:20px;\">Training and prediction</span>"
   ]
  },
  {
   "cell_type": "code",
   "execution_count": 242,
   "id": "72ff13ee-ac68-416f-8eba-40001b3a92ba",
   "metadata": {},
   "outputs": [],
   "source": [
    "# Split the data\n",
    "X = fea_df.drop(columns=['node_id', 'categories', 'component_success_rate', 'component_size'])\n",
    "y = [i['startup'] for i in data_non_iso]\n",
    "X_train, X_test, y_train, y_test = train_test_split(X, y, test_size=0.2, random_state=42)"
   ]
  },
  {
   "cell_type": "code",
   "execution_count": 243,
   "id": "15e1babb-a4a0-4e15-8a26-072073edd268",
   "metadata": {},
   "outputs": [],
   "source": [
    "# Normalize\n",
    "scaler = StandardScaler()\n",
    "X_train = scaler.fit_transform(X_train)\n",
    "X_test = scaler.transform(X_test)"
   ]
  },
  {
   "cell_type": "code",
   "execution_count": 244,
   "id": "eabd2be2-3acb-4461-944a-539f682a7f42",
   "metadata": {},
   "outputs": [
    {
     "name": "stdout",
     "output_type": "stream",
     "text": [
      "                      Feature  Importance\n",
      "1                   closeness    0.197535\n",
      "3         class_avg_closeness    0.160536\n",
      "2                 class_score    0.156654\n",
      "4              location_score    0.141763\n",
      "0                      degree    0.131449\n",
      "6  neighbors_weighted_success    0.131038\n",
      "5             employees_score    0.074747\n",
      "7             component_score    0.006278\n"
     ]
    }
   ],
   "source": [
    "model = RandomForestClassifier(random_state=42)\n",
    "model.fit(X_train, y_train)\n",
    "\n",
    "# Feature importance\n",
    "feature_importances = model.feature_importances_\n",
    "features = X.columns\n",
    "importance_df = pd.DataFrame({'Feature': features, 'Importance': feature_importances})\n",
    "\n",
    "# Rank\n",
    "importance_df = importance_df.sort_values(by='Importance', ascending=False)\n",
    "print(importance_df)"
   ]
  },
  {
   "cell_type": "code",
   "execution_count": 245,
   "id": "1d8bc4ae-6048-4241-95dd-89e257a224f8",
   "metadata": {},
   "outputs": [
    {
     "data": {
      "image/png": "[encoded data removed]",
      "text/plain": [
       "<Figure size 1000x600 with 1 Axes>"
      ]
     },
     "metadata": {},
     "output_type": "display_data"
    }
   ],
   "source": [
    "plt.figure(figsize=(10, 6))\n",
    "plt.barh(importance_df['Feature'], importance_df['Importance'], color='skyblue')\n",
    "plt.xlabel('Importance')\n",
    "plt.title('Feature Importance')\n",
    "plt.gca().invert_yaxis()  # 将最高重要性的特征放在最上方\n",
    "\n",
    "# 显示图表\n",
    "plt.show()"
   ]
  },
  {
   "cell_type": "code",
   "execution_count": 246,
   "id": "84b082b3-0f21-4e61-b657-a88a58681405",
   "metadata": {
    "scrolled": true
   },
   "outputs": [],
   "source": [
    "\n",
    "model_1 = LogisticRegression(class_weight='balanced', max_iter=10000)\n",
    "model_2 = RandomForestClassifier()\n",
    "model_3 = SVC(kernel='linear', probability=True)\n",
    "model_4 = KNeighborsClassifier(n_neighbors=3)\n",
    "\n",
    "model_1.fit(X_train, y_train)\n",
    "model_2.fit(X_train, y_train)\n",
    "model_3.fit(X_train, y_train)\n",
    "model_4.fit(X_train, y_train)\n",
    "\n",
    "y_pred_1 = model_1.predict(X_test)\n",
    "y_pred_2 = model_2.predict(X_test)\n",
    "y_pred_3 = model_3.predict(X_test)\n",
    "y_pred_4 = model_4.predict(X_test)\n"
   ]
  },
  {
   "cell_type": "code",
   "execution_count": 247,
   "id": "5de51e9e-a9cd-4691-9101-f9f52e4e5fd5",
   "metadata": {},
   "outputs": [],
   "source": [
    "y_pred_proba_1 = model_1.predict_proba(X_test)[:, 1]\n",
    "y_pred_proba_2 = model_2.predict_proba(X_test)[:, 1]\n",
    "y_pred_proba_3 = model_3.predict_proba(X_test)[:, 1]\n",
    "y_pred_proba_4 = model_4.predict_proba(X_test)[:, 1]"
   ]
  },
  {
   "cell_type": "code",
   "execution_count": 248,
   "id": "e7a497a9-11da-4373-ad10-b08cdd23d864",
   "metadata": {},
   "outputs": [
    {
     "name": "stdout",
     "output_type": "stream",
     "text": [
      "Logistic Regression Classification Report:\n",
      "              precision    recall  f1-score   support\n",
      "\n",
      "      failed       0.53      0.61      0.57      5207\n",
      "     success       0.76      0.69      0.72      9003\n",
      "\n",
      "    accuracy                           0.66     14210\n",
      "   macro avg       0.64      0.65      0.65     14210\n",
      "weighted avg       0.67      0.66      0.67     14210\n",
      "\n",
      "Logistic Regression ROC AUC Score: 0.703\n",
      "Random Forest Classification Report:\n",
      "              precision    recall  f1-score   support\n",
      "\n",
      "      failed       0.75      0.12      0.21      5207\n",
      "     success       0.66      0.98      0.79      9003\n",
      "\n",
      "    accuracy                           0.66     14210\n",
      "   macro avg       0.70      0.55      0.50     14210\n",
      "weighted avg       0.69      0.66      0.58     14210\n",
      "\n",
      "Random Forest ROC AUC Score: 0.746\n",
      "SVC Classification Report:\n",
      "              precision    recall  f1-score   support\n",
      "\n",
      "      failed       0.56      0.51      0.53      5207\n",
      "     success       0.73      0.76      0.75      9003\n",
      "\n",
      "    accuracy                           0.67     14210\n",
      "   macro avg       0.64      0.64      0.64     14210\n",
      "weighted avg       0.67      0.67      0.67     14210\n",
      "\n",
      "SVC ROC AUC Score: 0.706\n",
      "K-Nearest Neighbors Classification Report:\n",
      "              precision    recall  f1-score   support\n",
      "\n",
      "      failed       0.56      0.51      0.53      5207\n",
      "     success       0.73      0.76      0.75      9003\n",
      "\n",
      "    accuracy                           0.67     14210\n",
      "   macro avg       0.64      0.64      0.64     14210\n",
      "weighted avg       0.67      0.67      0.67     14210\n",
      "\n",
      "K-Nearest Neighbors ROC AUC Score: 0.674\n"
     ]
    }
   ],
   "source": [
    "evaluate_pred(model_1, X_test, y_test, y_pred_1, 'Logistic Regression')\n",
    "evaluate_pred(model_2, X_test, y_test, y_pred_3, 'Random Forest')\n",
    "evaluate_pred(model_3, X_test, y_test, y_pred_4, 'SVC')\n",
    "evaluate_pred(model_4, X_test, y_test, y_pred_5, 'K-Nearest Neighbors')"
   ]
  },
  {
   "cell_type": "code",
   "execution_count": 254,
   "id": "f71c9409-bc26-4797-ba85-b5c241fb16f0",
   "metadata": {},
   "outputs": [
    {
     "data": {
      "text/plain": [
       "[0.658151033862751, 0.9757858491613907, 0.7059959698899846]"
      ]
     },
     "execution_count": 254,
     "metadata": {},
     "output_type": "execute_result"
    }
   ],
   "source": [
    "metrics_3"
   ]
  },
  {
   "cell_type": "code",
   "execution_count": 209,
   "id": "5db86da3-578c-459f-a16a-882a56861500",
   "metadata": {},
   "outputs": [
    {
     "name": "stdout",
     "output_type": "stream",
     "text": [
      "Random prediction accuracy: 0.5063\n"
     ]
    }
   ],
   "source": [
    "y_random_pred = np.random.choice(['success', 'failed'], size=len(y_test), p=[0.5, 0.5])\n",
    "random_accuracy = accuracy_score(y_test, y_random_pred)\n",
    "print(f\"Random prediction accuracy: {random_accuracy:.4f}\")"
   ]
  },
  {
   "cell_type": "code",
   "execution_count": 266,
   "id": "c9307173-e6c2-4867-b7ea-fbab7d7a272b",
   "metadata": {},
   "outputs": [],
   "source": [
    "investment_count = {}\n",
    "success_count = {}\n",
    "\n",
    "for i in data_non_iso:\n",
    "    people = list(set(i['founders']) | set(i['investors']))\n",
    "    status = i['startup']\n",
    "    for inv in people:\n",
    "        if inv in investment_count:\n",
    "            investment_count[inv] += 1\n",
    "        else:\n",
    "            investment_count[inv] = 1\n",
    "        \n",
    "        if status == 'success':\n",
    "            if inv in success_count:\n",
    "                success_count[inv] += 1\n",
    "            else:\n",
    "                success_count[inv] = 1\n",
    "investor_success_prob = {}\n",
    "for i in investment_count:\n",
    "    total_investments = investment_count[i]\n",
    "    if i in success_count:\n",
    "        successful_investments = success_count[i]\n",
    "    else:\n",
    "        successful_investments = 0\n",
    "    success_probability = successful_investments / total_investments\n",
    "    investor_success_prob[i] = {'Total Investments': total_investments, 'Success Probability': success_probability}\n",
    "\n",
    "# top_20_investors = sorted(investor_success_prob, key=lambda x: x[1], reverse=True)[:20]\n",
    "# df_top_20 = pd.DataFrame(top_20_investors, columns=['Investor', 'Total Investments', 'Success Probability'])\n",
    "# print(df_top_20)\n",
    "\n",
    "y_pred_compare = []\n",
    "for i in data_non_iso:\n",
    "    people = list(set(i['founders']) | set(i['investors']))\n",
    "    total_prob = 0\n",
    "    for n in people:\n",
    "        total_prob += investor_success_prob[n]['Success Probability']\n",
    "    inv_avg_success = total_prob / len(people)\n",
    "    y_pred_compare.append(inv_avg_success)\n",
    "y_pred_baseline = np.random.binomial(1, y_pred_compare)\n",
    "y_pred_baseline = ['success' if i == 1 else 'failed' for i in y_pred_baseline]"
   ]
  },
  {
   "cell_type": "code",
   "execution_count": 268,
   "id": "8da28c13-d824-4cb2-b3fd-00eb7d5cdb22",
   "metadata": {},
   "outputs": [
    {
     "name": "stdout",
     "output_type": "stream",
     "text": [
      "Baseline model accuracy: 0.5435\n"
     ]
    }
   ],
   "source": [
    "baseline_accuracy = accuracy_score(y_train + y_test, y_pred_baseline)\n",
    "print(f\"Baseline model accuracy: {baseline_accuracy:.4f}\")"
   ]
  },
  {
   "cell_type": "code",
   "execution_count": 249,
   "id": "5f6abbaa-0834-4cf7-8b09-4903865f1793",
   "metadata": {},
   "outputs": [
    {
     "data": {
      "image/png": "[encoded data removed]",
      "text/plain": [
       "<Figure size 1000x600 with 1 Axes>"
      ]
     },
     "metadata": {},
     "output_type": "display_data"
    }
   ],
   "source": [
    "\n",
    "metrics_1 = [precision_score(y_test, y_pred_1, pos_label = 'success'), recall_score(y_test, y_pred_1, pos_label = 'success'), roc_auc_score(y_test, y_pred_proba_1)]\n",
    "metrics_2 = [precision_score(y_test, y_pred_2, pos_label = 'success'), recall_score(y_test, y_pred_2, pos_label = 'success'), roc_auc_score(y_test, y_pred_proba_2)]\n",
    "metrics_3 = [precision_score(y_test, y_pred_3, pos_label = 'success'), recall_score(y_test, y_pred_3, pos_label = 'success'), roc_auc_score(y_test, y_pred_proba_3)]\n",
    "metrics_4 = [precision_score(y_test, y_pred_4, pos_label = 'success'), recall_score(y_test, y_pred_4, pos_label = 'success'), roc_auc_score(y_test, y_pred_proba_4)]\n",
    "\n",
    "# 定义指标名称和位置\n",
    "metrics_names = ['Precision', 'Recall', 'AUC']\n",
    "index = np.arange(len(metrics_names))\n",
    "\n",
    "# 设置柱宽\n",
    "bar_width = 0.2\n",
    "\n",
    "# 绘制柱状图\n",
    "plt.figure(figsize=(10, 6))\n",
    "plt.bar(index, metrics_1, bar_width, label='Logistic Regression', color='b')\n",
    "plt.bar(index + bar_width, metrics_2, bar_width, label='Random Forest', color='g')\n",
    "plt.bar(index + 2 * bar_width, metrics_3, bar_width, label='SVM', color='r')\n",
    "plt.bar(index + 3 * bar_width, metrics_4, bar_width, label='KNN', color='c')\n",
    "\n",
    "# 设置图表属性\n",
    "plt.xlabel('Metrics')\n",
    "plt.ylabel('Scores')\n",
    "plt.title('Comparison of Model Performance Metrics')\n",
    "plt.xticks(index + 1.5 * bar_width, metrics_names)\n",
    "plt.legend()\n",
    "\n",
    "# 显示图表\n",
    "plt.show()"
   ]
  },
  {
   "cell_type": "code",
   "execution_count": 269,
   "id": "b8fac7ec-4dab-4aba-bc7d-9998367c8853",
   "metadata": {},
   "outputs": [
    {
     "data": {
      "text/plain": [
       "{'Number of Nodes': 100000,\n",
       " 'Number of Edges': 10389184,\n",
       " 'Density': 0.0021,\n",
       " 'Avg Clustering Coefficient': 0.0104,\n",
       " 'Avg Degree': 207.7837,\n",
       " 'Max Degree': 5430,\n",
       " 'Min Degree': 104,\n",
       " 'Assortativity': 0.0021}"
      ]
     },
     "execution_count": 269,
     "metadata": {},
     "output_type": "execute_result"
    }
   ],
   "source": [
    "# 设定目标节点数和边数\n",
    "num_nodes = 100000\n",
    "num_edges = 10499381\n",
    "\n",
    "# 计算每次添加新节点时连接到现有节点的边数 m\n",
    "# 注意：m 值必须是一个整数\n",
    "m = num_edges // num_nodes\n",
    "\n",
    "# 使用 NetworkX 生成 BA 模型网络\n",
    "G_test = nx.barabasi_albert_graph(n=num_nodes, m=m)\n",
    "\n",
    "# 计算实际生成的边数\n",
    "actual_num_edges = G_test.number_of_edges()\n",
    "ana_test = generate_data(G_test)\n",
    "ana_test"
   ]
  },
  {
   "cell_type": "code",
   "execution_count": null,
   "id": "6d7f684b-5fd2-429c-8afa-047b003527b5",
   "metadata": {},
   "outputs": [],
   "source": []
  }
 ],
 "metadata": {
  "kernelspec": {
   "display_name": "Python 3 (ipykernel)",
   "language": "python",
   "name": "python3"
  },
  "language_info": {
   "codemirror_mode": {
    "name": "ipython",
    "version": 3
   },
   "file_extension": ".py",
   "mimetype": "text/x-python",
   "name": "python",
   "nbconvert_exporter": "python",
   "pygments_lexer": "ipython3",
   "version": "3.11.5"
  }
 },
 "nbformat": 4,
 "nbformat_minor": 5
}
